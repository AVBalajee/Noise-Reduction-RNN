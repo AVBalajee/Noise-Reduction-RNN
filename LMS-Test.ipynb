{
 "cells": [
  {
   "cell_type": "code",
   "execution_count": 6,
   "id": "a31541f5",
   "metadata": {},
   "outputs": [
    {
     "name": "stdout",
     "output_type": "stream",
     "text": [
      "SNR for LMS Algorithm: 6.98 dB\n"
     ]
    }
   ],
   "source": [
    "import numpy as np\n",
    "import soundfile as sf\n",
    "\n",
    "# Load the input audio file\n",
    "filename = 'C:/Users/Balaji/Documents/noise_reduction/clean_trainset_wav/p226_010.wav'\n",
    "audio, sample_rate = sf.read(filename)\n",
    "\n",
    "# Generate a noisy version of the input audio file\n",
    "noise = np.random.normal(scale=0.1, size=len(audio))\n",
    "noisy_audio = audio + noise\n",
    "\n",
    "# Set the LMS algorithm parameters\n",
    "mu = 0.1\n",
    "order = 50\n",
    "\n",
    "# Define the LMS filter function\n",
    "def lms_filter(x, d, mu, order):\n",
    "    y = np.zeros_like(d)\n",
    "    w = np.zeros(order)\n",
    "    for n in range(order, len(x)):\n",
    "        x_vec = x[n-order:n]\n",
    "        y[n] = np.dot(w, x_vec)\n",
    "        e = d[n] - y[n]\n",
    "        w += mu * e * x_vec\n",
    "    return y, w\n",
    "\n",
    "# Apply the LMS filter to the noisy audio\n",
    "output, weights = lms_filter(noisy_audio, audio, mu, order)\n",
    "\n",
    "# Calculate the signal-to-noise ratio (SNR)\n",
    "signal_power = np.sum(audio**2)\n",
    "noise_power = np.sum((audio - output)**2)\n",
    "snr = 10 * np.log10(signal_power / noise_power)\n",
    "\n",
    "# Print the SNR value\n",
    "print(f'SNR for LMS Algorithm: {snr:.2f} dB')\n"
   ]
  },
  {
   "cell_type": "code",
   "execution_count": null,
   "id": "d81df87c",
   "metadata": {},
   "outputs": [],
   "source": []
  },
  {
   "cell_type": "code",
   "execution_count": null,
   "id": "14c813ef",
   "metadata": {},
   "outputs": [],
   "source": []
  }
 ],
 "metadata": {
  "kernelspec": {
   "display_name": "Python 3",
   "language": "python",
   "name": "python3"
  },
  "language_info": {
   "codemirror_mode": {
    "name": "ipython",
    "version": 3
   },
   "file_extension": ".py",
   "mimetype": "text/x-python",
   "name": "python",
   "nbconvert_exporter": "python",
   "pygments_lexer": "ipython3",
   "version": "3.8.6"
  }
 },
 "nbformat": 4,
 "nbformat_minor": 5
}
