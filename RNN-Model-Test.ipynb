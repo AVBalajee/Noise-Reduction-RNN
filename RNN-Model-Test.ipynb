{
 "cells": [
  {
   "cell_type": "code",
   "execution_count": 72,
   "id": "c7444f02",
   "metadata": {},
   "outputs": [],
   "source": [
    "import tensorflow as tf\n",
    "import soundfile as sf\n",
    "import numpy as np\n",
    "\n",
    "# Load the pre-trained model\n",
    "model = tf.keras.models.load_model('NoiseSuppressionModel.h5')\n",
    "\n",
    "# Load the test dataset\n",
    "test_data, sr = sf.read('C:/Users/Balaji/Documents/noise_reduction/clean_trainset_wav/p226_010.wav')\n",
    "test_data = test_data[:12000]\n"
   ]
  },
  {
   "cell_type": "code",
   "execution_count": 73,
   "id": "fa4ba44f",
   "metadata": {},
   "outputs": [
    {
     "name": "stdout",
     "output_type": "stream",
     "text": [
      "SNR for Our Predicted Model: 15.827531814575195 dB\n"
     ]
    }
   ],
   "source": [
    "# Apply the pre-trained model to the test dataset\n",
    "from IPython.display import Audio\n",
    "#Audio(tf.squeeze(model.predict(tf.expand_dims(tf.expand_dims(noisy_train[6],-1),0))),rate=16000)\n",
    "denoised_data = tf.squeeze(model.predict(tf.expand_dims(tf.expand_dims(test_data,-1),0)))\n",
    "# Calculate the SNR\n",
    "\n",
    "noise = test_data - denoised_data\n",
    "signal = denoised_data\n",
    "mean_signal_power = np.mean(signal ** 2)\n",
    "mean_noise_power = np.mean(noise ** 2)\n",
    "snr = 10 * np.log10(mean_signal_power / mean_noise_power)\n",
    "print('SNR for Our Predicted Model:', snr, 'dB')"
   ]
  },
  {
   "cell_type": "code",
   "execution_count": null,
   "id": "b3bdd9e0",
   "metadata": {},
   "outputs": [],
   "source": []
  }
 ],
 "metadata": {
  "kernelspec": {
   "display_name": "Python 3",
   "language": "python",
   "name": "python3"
  },
  "language_info": {
   "codemirror_mode": {
    "name": "ipython",
    "version": 3
   },
   "file_extension": ".py",
   "mimetype": "text/x-python",
   "name": "python",
   "nbconvert_exporter": "python",
   "pygments_lexer": "ipython3",
   "version": "3.8.6"
  }
 },
 "nbformat": 4,
 "nbformat_minor": 5
}
